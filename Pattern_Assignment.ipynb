{
  "nbformat": 4,
  "nbformat_minor": 0,
  "metadata": {
    "colab": {
      "name": "Pattern Assignment.ipynb",
      "provenance": [],
      "authorship_tag": "ABX9TyMY3DzgPA7ucL0AHxD3E6Ix",
      "include_colab_link": true
    },
    "kernelspec": {
      "name": "python3",
      "display_name": "Python 3"
    }
  },
  "cells": [
    {
      "cell_type": "markdown",
      "metadata": {
        "id": "view-in-github",
        "colab_type": "text"
      },
      "source": [
        "<a href=\"https://colab.research.google.com/github/Varshini0711/data-structure/blob/master/Pattern_Assignment.ipynb\" target=\"_parent\"><img src=\"https://colab.research.google.com/assets/colab-badge.svg\" alt=\"Open In Colab\"/></a>"
      ]
    },
    {
      "cell_type": "markdown",
      "metadata": {
        "id": "kaBXpiKO10BC"
      },
      "source": [
        "Print downward Half-Pyramid pattern with star"
      ]
    },
    {
      "cell_type": "code",
      "metadata": {
        "id": "wxJynI682EDw",
        "outputId": "bde11a99-de78-4e59-8acb-d72839324657",
        "colab": {
          "base_uri": "https://localhost:8080/",
          "height": 119
        }
      },
      "source": [
        "def pattern(n):\n",
        "      for i in range(n, -1, -1):\n",
        "           for j in range(0, i + 1):\n",
        "               print(\"* \", end=\"\")\n",
        "           print(\"\\r\")\n",
        " \n",
        "pattern(5)"
      ],
      "execution_count": 1,
      "outputs": [
        {
          "output_type": "stream",
          "text": [
            "* * * * * * \r\n",
            "* * * * * \r\n",
            "* * * * \r\n",
            "* * * \r\n",
            "* * \r\n",
            "* \r\n"
          ],
          "name": "stdout"
        }
      ]
    },
    {
      "cell_type": "markdown",
      "metadata": {
        "id": "fXF1OqCn2Nva"
      },
      "source": [
        "\n",
        "\n",
        "\n",
        "2. Print multiplication table form 1 to 10"
      ]
    },
    {
      "cell_type": "code",
      "metadata": {
        "id": "UMj9k4y32gxE",
        "outputId": "c37c1131-12c2-4878-c99f-95d487dc5f13",
        "colab": {
          "base_uri": "https://localhost:8080/",
          "height": 208
        }
      },
      "source": [
        "for i in range(1, 10+1):\n",
        "   for j in range(i, (i*10)+1):\n",
        "       if(j% i==0):\n",
        "        print(j, end=\"\\t\")\n",
        "   print()"
      ],
      "execution_count": 5,
      "outputs": [
        {
          "output_type": "stream",
          "text": [
            "1\t2\t3\t4\t5\t6\t7\t8\t9\t10\t\n",
            "2\t4\t6\t8\t10\t12\t14\t16\t18\t20\t\n",
            "3\t6\t9\t12\t15\t18\t21\t24\t27\t30\t\n",
            "4\t8\t12\t16\t20\t24\t28\t32\t36\t40\t\n",
            "5\t10\t15\t20\t25\t30\t35\t40\t45\t50\t\n",
            "6\t12\t18\t24\t30\t36\t42\t48\t54\t60\t\n",
            "7\t14\t21\t28\t35\t42\t49\t56\t63\t70\t\n",
            "8\t16\t24\t32\t40\t48\t56\t64\t72\t80\t\n",
            "9\t18\t27\t36\t45\t54\t63\t72\t81\t90\t\n",
            "10\t20\t30\t40\t50\t60\t70\t80\t90\t100\t\n"
          ],
          "name": "stdout"
        }
      ]
    }
  ]
}