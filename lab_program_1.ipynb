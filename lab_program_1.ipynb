{
  "nbformat": 4,
  "nbformat_minor": 0,
  "metadata": {
    "colab": {
      "name": "lab program-1",
      "provenance": [],
      "authorship_tag": "ABX9TyOrJIkK/dmu42qtWSnAxrFU",
      "include_colab_link": true
    },
    "kernelspec": {
      "name": "python3",
      "display_name": "Python 3"
    }
  },
  "cells": [
    {
      "cell_type": "markdown",
      "metadata": {
        "id": "view-in-github",
        "colab_type": "text"
      },
      "source": [
        "<a href=\"https://colab.research.google.com/github/Varshini0711/data-structure/blob/master/lab_program_1.ipynb\" target=\"_parent\"><img src=\"https://colab.research.google.com/assets/colab-badge.svg\" alt=\"Open In Colab\"/></a>"
      ]
    },
    {
      "cell_type": "markdown",
      "metadata": {
        "id": "rgdvQOX1wBYF"
      },
      "source": [
        "find minimum among three number"
      ]
    },
    {
      "cell_type": "code",
      "metadata": {
        "id": "WCmfighyuUe1",
        "outputId": "8c2859ba-7c26-42ab-dd06-a5155828016a",
        "colab": {
          "base_uri": "https://localhost:8080/",
          "height": 34
        }
      },
      "source": [
        "  \n",
        "a, b, c = 5, 7, 10\n",
        "  \n",
        "if(a <= b and a <= c): \n",
        "    print(a, \"is the minimun\") \n",
        "  \n",
        "elif(b <= a and b <= c): \n",
        "    print(b, \"is the minimum\") \n",
        "else: \n",
        "    print(c, \"is the minimum\") "
      ],
      "execution_count": 2,
      "outputs": [
        {
          "output_type": "stream",
          "text": [
            "5 is the minimun\n"
          ],
          "name": "stdout"
        }
      ]
    },
    {
      "cell_type": "markdown",
      "metadata": {
        "id": "PMG-QgE4v0HX"
      },
      "source": [
        "check whether the given numbers is perfect"
      ]
    },
    {
      "cell_type": "code",
      "metadata": {
        "id": "duoGuSCyv_7u",
        "outputId": "fc0c2086-ae30-42d7-ec44-a1b5aaabe05e",
        "colab": {
          "base_uri": "https://localhost:8080/",
          "height": 34
        }
      },
      "source": [
        "def perfect_number(n):\n",
        "    sum = 0\n",
        "    for x in range(1, n):\n",
        "        if n % x == 0:\n",
        "            sum += x\n",
        "    return sum == n\n",
        "print(perfect_number(6))    \n"
      ],
      "execution_count": 12,
      "outputs": [
        {
          "output_type": "stream",
          "text": [
            "True\n"
          ],
          "name": "stdout"
        }
      ]
    },
    {
      "cell_type": "markdown",
      "metadata": {
        "id": "lsGfMoAZxIGZ"
      },
      "source": [
        "print twin primes up to a specified limit"
      ]
    },
    {
      "cell_type": "code",
      "metadata": {
        "id": "a1Vtbl9AyaSx",
        "outputId": "312c77b7-82c8-43a7-af49-c9c97445fc6b",
        "colab": {
          "base_uri": "https://localhost:8080/",
          "height": 153
        }
      },
      "source": [
        "def is_prime(n):\n",
        "   for i in range(2, n):\n",
        "      if n % i == 0:\n",
        "         return False\n",
        "   return True\n",
        "\n",
        "def generate_twins(start, end):\n",
        "   for i in range(start, end):\n",
        "      j = i + 2\n",
        "      if(is_prime(i) and is_prime(j)):\n",
        "         print(\"{:d} and {:d}\".format(i, j))\n",
        "        \n",
        "generate_twins(2, 100)      "
      ],
      "execution_count": 11,
      "outputs": [
        {
          "output_type": "stream",
          "text": [
            "3 and 5\n",
            "5 and 7\n",
            "11 and 13\n",
            "17 and 19\n",
            "29 and 31\n",
            "41 and 43\n",
            "59 and 61\n",
            "71 and 73\n"
          ],
          "name": "stdout"
        }
      ]
    },
    {
      "cell_type": "markdown",
      "metadata": {
        "id": "fpbpOyoF00JF"
      },
      "source": [
        "print the prime numbers up to specified limit"
      ]
    },
    {
      "cell_type": "code",
      "metadata": {
        "id": "0opMK5Y11w5C",
        "outputId": "54b132b9-8995-44ef-b1e9-ec4bb114b34c",
        "colab": {
          "base_uri": "https://localhost:8080/",
          "height": 391
        }
      },
      "source": [
        "r=int(input(\"Enter upper limit: \"))\n",
        "for a in range(2,r+1):\n",
        "    k=0\n",
        "    for i in range(2,a//2+1):\n",
        "        if(a%i==0):\n",
        "            k=k+1\n",
        "    if(k<=0):\n",
        "        print(a)"
      ],
      "execution_count": 14,
      "outputs": [
        {
          "output_type": "stream",
          "text": [
            "Enter upper limit: 75\n",
            "2\n",
            "3\n",
            "5\n",
            "7\n",
            "11\n",
            "13\n",
            "17\n",
            "19\n",
            "23\n",
            "29\n",
            "31\n",
            "37\n",
            "41\n",
            "43\n",
            "47\n",
            "53\n",
            "59\n",
            "61\n",
            "67\n",
            "71\n",
            "73\n"
          ],
          "name": "stdout"
        }
      ]
    },
    {
      "cell_type": "markdown",
      "metadata": {
        "id": "gAo0qKSq27lS"
      },
      "source": [
        "sum of the digits of a number.check whether given number Amstrong or not"
      ]
    },
    {
      "cell_type": "code",
      "metadata": {
        "id": "Lt9WTLTe5AJm",
        "outputId": "3726f09a-8a4d-4312-88b7-e6dc2ee7e307",
        "colab": {
          "base_uri": "https://localhost:8080/",
          "height": 51
        }
      },
      "source": [
        "num = int(input(\"Enter a number: \"))\n",
        "\n",
        "sum = 0\n",
        "\n",
        "temp = num\n",
        "while temp > 0:\n",
        "   digit = temp % 10\n",
        "   sum += digit ** 3\n",
        "   temp //= 10\n",
        "\n",
        "if num == sum:\n",
        "   print(num,\"is an Armstrong number\")\n",
        "else:\n",
        "   print(num,\"is not an Armstrong number\")"
      ],
      "execution_count": 15,
      "outputs": [
        {
          "output_type": "stream",
          "text": [
            "Enter a number: 28\n",
            "28 is not an Armstrong number\n"
          ],
          "name": "stdout"
        }
      ]
    },
    {
      "cell_type": "markdown",
      "metadata": {
        "id": "bGjh3KRS7A-_"
      },
      "source": [
        "swapping of two numbers"
      ]
    },
    {
      "cell_type": "code",
      "metadata": {
        "id": "JrrPNzU17F2-",
        "outputId": "579a3c55-8af7-4a1b-b254-1be5310efbba",
        "colab": {
          "base_uri": "https://localhost:8080/",
          "height": 51
        }
      },
      "source": [
        "x = 11\n",
        "y = 28\n",
        "\n",
        "temp = x\n",
        "x = y\n",
        "y = temp\n",
        "\n",
        "print('The value of x after swapping: {}'.format(x))\n",
        "print('The value of y after swapping: {}'.format(y))"
      ],
      "execution_count": 16,
      "outputs": [
        {
          "output_type": "stream",
          "text": [
            "The value of x after swapping: 28\n",
            "The value of y after swapping: 11\n"
          ],
          "name": "stdout"
        }
      ]
    },
    {
      "cell_type": "markdown",
      "metadata": {
        "id": "w_jnwA-b7dUN"
      },
      "source": [
        "perform all the five arithmetic operations"
      ]
    },
    {
      "cell_type": "code",
      "metadata": {
        "id": "sd6z83849ewv",
        "outputId": "95261c00-a2c4-4797-a580-5589980c475e",
        "colab": {
          "base_uri": "https://localhost:8080/",
          "height": 153
        }
      },
      "source": [
        "num1 = int(input('Enter First number: '))\n",
        "num2 = int(input('Enter Second number '))\n",
        "add = num1 + num2\n",
        "dif = num1 - num2\n",
        "mul = num1 * num2\n",
        "div = num1 / num2\n",
        "floor_div = num1 // num2\n",
        "power = num1 ** num2\n",
        "print('Sum of ',num1 ,'and' ,num2 ,'is :',add)\n",
        "print('Difference of ',num1 ,'and' ,num2 ,'is :',dif)\n",
        "print('Product of' ,num1 ,'and' ,num2 ,'is :',mul)\n",
        "print('Division of ',num1 ,'and' ,num2 ,'is :',div)\n",
        "print('Floor Division of ',num1 ,'and' ,num2 ,'is :',floor_div)\n",
        "print('Exponent of ',num1 ,'and' ,num2 ,'is :',power)\n",
        "\n"
      ],
      "execution_count": 17,
      "outputs": [
        {
          "output_type": "stream",
          "text": [
            "Enter First number: 7\n",
            "Enter Second number 28\n",
            "Sum of  7 and 28 is : 35\n",
            "Difference of  7 and 28 is : -21\n",
            "Product of 7 and 28 is : 196\n",
            "Division of  7 and 28 is : 0.25\n",
            "Floor Division of  7 and 28 is : 0\n",
            "Exponent of  7 and 28 is : 459986536544739960976801\n"
          ],
          "name": "stdout"
        }
      ]
    },
    {
      "cell_type": "markdown",
      "metadata": {
        "id": "lADQ8YM8CTdC"
      },
      "source": [
        "find Gcd and lcm of two numbers\n",
        "\n",
        "---\n",
        "\n"
      ]
    },
    {
      "cell_type": "code",
      "metadata": {
        "id": "ryiq2DqlCax3",
        "outputId": "3946cf64-93fa-4abd-f24d-04b543b41a4f",
        "colab": {
          "base_uri": "https://localhost:8080/",
          "height": 51
        }
      },
      "source": [
        "def gcd(a,b): \n",
        " \n",
        "    if a == 0: \n",
        " \n",
        "        return b \n",
        " \n",
        "    return gcd(b % a, a) \n",
        "def lcm(a,b): \n",
        " \n",
        "    return (a*b) / gcd(a,b) \n",
        "a = 25\n",
        "b = 40\n",
        "print('LCM of', a, 'and', b, 'is', lcm(a, b))\n",
        "print('GCD of', a, 'and', b, 'is', gcd(a, b))        "
      ],
      "execution_count": 22,
      "outputs": [
        {
          "output_type": "stream",
          "text": [
            "LCM of 25 and 40 is 200.0\n",
            "GCD of 25 and 40 is 5\n"
          ],
          "name": "stdout"
        }
      ]
    }
  ]
}